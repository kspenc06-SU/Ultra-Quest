{
 "cells": [
  {
   "cell_type": "code",
   "execution_count": 2,
   "metadata": {},
   "outputs": [
    {
     "name": "stdout",
     "output_type": "stream",
     "text": [
      "Welcome to Round 6!\n",
      "Right or left? \n"
     ]
    }
   ],
   "source": [
    "print(\"Welcome to Round 6!\")\n",
    "direction1 = input(\"Right or left? \")\n",
    "if direction1 == 'right':\n",
    "    print(\"Dead end. Go left.\")\n",
    "    direction1 = input(\"Right or left? \")\n",
    "    direction2 = input(\"Up or down? \")\n",
    "    if direction2 == 'down':\n",
    "        print(\"Dead end. Go up.\")\n",
    "        direction2 = input(\"Up or down? \")\n",
    "    elif direction2 == 'up':\n",
    "        direction3 = input(\"Right or left? \")\n",
    "elif direction1 == 'left':\n",
    "    direction2 = input(\"Up or down? \")\n",
    "    if direction2 == 'down':\n",
    "        print(\"Dead end. Go up.\")\n",
    "        direction2 = input(\"Up or down? \")\n",
    "    elif direction2 == 'up':\n",
    "        direction3 = input(\"Right or left? \")"
   ]
  },
  {
   "cell_type": "code",
   "execution_count": null,
   "metadata": {},
   "outputs": [],
   "source": [
    "direction3 = input(\"Right or left? \")\n",
    "if direction3 == 'right':\n",
    "    print(\"Dead end. Go left.\")\n",
    "    direction3 = input(\"Right or left? \")\n",
    "    direction4 = input(\"Up or down? \")\n",
    "    if direction4 == 'down':\n",
    "        print(\"Dead end. Go up.\")\n",
    "        direction4 = input(\"Up or down? \")\n",
    "    elif direction4 == 'up':\n",
    "        direction5 = input(\"Right or left? \")\n",
    "elif direction3 == 'left':\n",
    "    direction4 = input(\"Up or down? \")\n",
    "    if direction4 == 'down':\n",
    "        print(\"Dead end. Go up.\")\n",
    "        direction4 = input(\"Up or down? \")\n",
    "    elif direction4 == 'up':\n",
    "        direction5 = input(\"Right or left? \")"
   ]
  },
  {
   "cell_type": "code",
   "execution_count": 3,
   "metadata": {},
   "outputs": [
    {
     "name": "stdout",
     "output_type": "stream",
     "text": [
      "Right or left? right\n",
      "Up or down? up\n",
      "Right or left? left\n"
     ]
    }
   ],
   "source": [
    "direction5 = input(\"Right or left? \")\n",
    "if direction5 == 'left':\n",
    "    print(\"Dead end. Go right.\")\n",
    "    direction5 = input(\"Right or left? \")\n",
    "    direction6 = input(\"Up or down? \")\n",
    "    if direction6 == 'down':\n",
    "        print(\"Dead end. Go up.\")\n",
    "        direction6 = input(\"Up or down? \")\n",
    "    elif direction6 == 'up':\n",
    "        direction7 = input(\"Right or left? \")\n",
    "elif direction5 == 'right':\n",
    "    direction6 = input(\"Up or down? \")\n",
    "    if direction6 == 'down':\n",
    "        print(\"Dead end. Go up.\")\n",
    "        direction6 = input(\"Up or down? \")\n",
    "    elif direction6 == 'up':\n",
    "        direction7 = input(\"Right or left? \")"
   ]
  },
  {
   "cell_type": "code",
   "execution_count": 4,
   "metadata": {},
   "outputs": [
    {
     "name": "stdout",
     "output_type": "stream",
     "text": [
      "Up or down? up\n",
      "Right or left? right\n"
     ]
    }
   ],
   "source": [
    "if direction7 == 'right':\n",
    "    print(\"Dead end. Go left.\")\n",
    "    direction7 = input(\"Right or left? \")\n",
    "    direction8 = input(\"Up or down? \")\n",
    "    if direction8 == 'down':\n",
    "        print(\"Dead end. Go up.\")\n",
    "        direction8 = input(\"Up or down? \")\n",
    "    elif direction8 == 'up':\n",
    "        direction9 = input(\"Right or left? \")\n",
    "elif direction7 == 'left':\n",
    "    direction8 = input(\"Up or down? \")\n",
    "    if direction8 == 'down':\n",
    "        print(\"Dead end. Go up.\")\n",
    "        direction8 = input(\"Up or down? \")\n",
    "    elif direction8 == 'up':\n",
    "        direction9 = input(\"Right or left? \")"
   ]
  },
  {
   "cell_type": "code",
   "execution_count": 7,
   "metadata": {},
   "outputs": [
    {
     "name": "stdout",
     "output_type": "stream",
     "text": [
      "Up or down? up\n",
      "Right or left? left\n"
     ]
    }
   ],
   "source": [
    "if direction9 == 'left':\n",
    "    print(\"Dead end. Go right.\")\n",
    "    direction9 = input(\"Right or left? \")\n",
    "    direction10 = input(\"Up or down? \")\n",
    "    if direction10 == 'down':\n",
    "        print(\"Dead end. Go up.\")\n",
    "        direction10 = input(\"Up or down? \")\n",
    "    elif direction10 == 'up':\n",
    "        direction11 = input(\"Right or left? \")\n",
    "elif direction9 == 'right':\n",
    "    direction10 = input(\"Up or down? \")\n",
    "    if direction10 == 'down':\n",
    "        print(\"Dead end. Go up.\")\n",
    "        direction10 = input(\"Up or down? \")\n",
    "    elif direction10 == 'up':\n",
    "        direction11 = input(\"Right or left? \")"
   ]
  },
  {
   "cell_type": "code",
   "execution_count": 8,
   "metadata": {},
   "outputs": [
    {
     "name": "stdout",
     "output_type": "stream",
     "text": [
      "Dead end. Go right.\n",
      "Right or left? right\n",
      "Up or down? down\n",
      "Right or left? left\n"
     ]
    }
   ],
   "source": [
    "if direction11 == 'left':\n",
    "    print(\"Dead end. Go right.\")\n",
    "    direction11 = input(\"Right or left? \")\n",
    "    direction12 = input(\"Up or down? \")\n",
    "    if direction12 == 'up':\n",
    "        print(\"Dead end. Go down.\")\n",
    "        direction12 = input(\"Up or down? \")\n",
    "    elif direction12 == 'down':\n",
    "        direction13 = input(\"Right or left? \")\n",
    "elif direction11 == 'right':\n",
    "    direction12 = input(\"Up or down? \")\n",
    "    if direction12 == 'up':\n",
    "        print(\"Dead end. Go down.\")\n",
    "        direction12 = input(\"Up or down? \")\n",
    "    elif direction12 == 'down':\n",
    "        direction13 = input(\"Right or left? \")"
   ]
  },
  {
   "cell_type": "code",
   "execution_count": 9,
   "metadata": {},
   "outputs": [
    {
     "name": "stdout",
     "output_type": "stream",
     "text": [
      "Dead end. Go right.\n",
      "Right or left? right\n",
      "Up or down? down\n",
      "Right or left? right\n"
     ]
    }
   ],
   "source": [
    "if direction13 == 'left':\n",
    "    print(\"Dead end. Go right.\")\n",
    "    direction13 = input(\"Right or left? \")\n",
    "    direction14 = input(\"Up or down? \")\n",
    "    if direction14 == 'up':\n",
    "        print(\"Dead end. Go down.\")\n",
    "    elif direction14 == 'down':\n",
    "        direction15 = input(\"Right or left? \")\n",
    "elif direction13 == 'right':\n",
    "    direction14 = input(\"Up or down? \")\n",
    "    if direction14 == 'up':\n",
    "        print(\"Dead end. Go down.\")\n",
    "    elif direction14 == 'down':\n",
    "        direction15 = input(\"Right or left? \")"
   ]
  },
  {
   "cell_type": "code",
   "execution_count": 14,
   "metadata": {},
   "outputs": [
    {
     "name": "stdout",
     "output_type": "stream",
     "text": [
      "Up or down? up\n",
      "Right or left? left\n"
     ]
    }
   ],
   "source": [
    "if direction15 == 'left':\n",
    "    print(\"Dead end. Go right.\")\n",
    "    direction15 = input(\"Right or left? \")\n",
    "    if direction16 == 'down':\n",
    "        print(\"Dead end. Go up.\")\n",
    "        direction16 = input(\"Up or down? \")\n",
    "    elif direction16 == 'up':\n",
    "        direction17 = input(\"Right or left? \")\n",
    "elif direction15 == 'right':\n",
    "    direction16 = input(\"Up or down? \")\n",
    "    if direction16 == 'down':\n",
    "        print(\"Dead end. Go up.\")\n",
    "        direction16 = input(\"Up or down? \")\n",
    "    elif direction16 == 'up':\n",
    "        direction17 = input(\"Right or left? \")"
   ]
  },
  {
   "cell_type": "code",
   "execution_count": null,
   "metadata": {},
   "outputs": [],
   "source": [
    "if direction17 == 'right':\n",
    "    print(\"Dead end. Go left.\")\n",
    "    direction17 = input(\"Right or left? \")\n",
    "    if direction18 == 'down':\n",
    "        print(\"Dead end. Go up.\")\n",
    "        direction18 = input(\"Up or down? \")\n",
    "    elif direcrion18 == 'up':\n",
    "        direction19 = input(\"Right or left? \")\n",
    "elif direction17 == 'left':\n",
    "    direction18 = input(\"Up or down?\")\n",
    "    if direction18 == 'down':\n",
    "        direction18 = input(\"Dead end. Go up.\")\n",
    "        direction18 = input(\"Up or down? \")\n",
    "    elif direcrion18 == 'up':\n",
    "        direction19 = input(\"Right or left? \")"
   ]
  },
  {
   "cell_type": "code",
   "execution_count": null,
   "metadata": {},
   "outputs": [],
   "source": [
    "if direction19 == 'right'\n",
    "    print(\"Dead end. Go left.\")\n",
    "    direction19 = input(\"Right or left? \")\n",
    "    if direction20 == 'down':\n",
    "        print(\"Dead end. Go up.\")\n",
    "        direction20 = input(\"Up or down? \")\n",
    "    elif direction20 == 'up':\n",
    "        direction21 = input(\"Right or left? \")\n",
    "elif direction19 == 'left':\n",
    "    direction20 = input(\"Up or down? \")\n",
    "    if direction20 == 'down':\n",
    "        print(\"Dead end. Go up.\")\n",
    "        direction20 = input(\"Up or down? \")\n",
    "    elif direction20 == 'up':\n",
    "        direction21 = input(\"Right or left? \")"
   ]
  },
  {
   "cell_type": "code",
   "execution_count": 1,
   "metadata": {},
   "outputs": [
    {
     "ename": "NameError",
     "evalue": "name 'direction21' is not defined",
     "output_type": "error",
     "traceback": [
      "\u001b[0;31m---------------------------------------------------------------------------\u001b[0m",
      "\u001b[0;31mNameError\u001b[0m                                 Traceback (most recent call last)",
      "\u001b[0;32m<ipython-input-1-132fc71d63b3>\u001b[0m in \u001b[0;36m<module>\u001b[0;34m\u001b[0m\n\u001b[0;32m----> 1\u001b[0;31m \u001b[0;32mif\u001b[0m \u001b[0mdirection21\u001b[0m \u001b[0;34m==\u001b[0m \u001b[0;34m'left'\u001b[0m\u001b[0;34m:\u001b[0m\u001b[0;34m\u001b[0m\u001b[0m\n\u001b[0m\u001b[1;32m      2\u001b[0m     \u001b[0mprint\u001b[0m\u001b[0;34m(\u001b[0m\u001b[0;34m\"Dead end. Go right.\"\u001b[0m\u001b[0;34m)\u001b[0m\u001b[0;34m\u001b[0m\u001b[0m\n\u001b[1;32m      3\u001b[0m     \u001b[0mdirection21\u001b[0m \u001b[0;34m=\u001b[0m \u001b[0minput\u001b[0m\u001b[0;34m(\u001b[0m\u001b[0;34m\"Right or left? \"\u001b[0m\u001b[0;34m)\u001b[0m\u001b[0;34m\u001b[0m\u001b[0m\n\u001b[1;32m      4\u001b[0m     \u001b[0;32mif\u001b[0m \u001b[0mdirection22\u001b[0m \u001b[0;34m==\u001b[0m \u001b[0;34m'up'\u001b[0m\u001b[0;34m:\u001b[0m\u001b[0;34m\u001b[0m\u001b[0m\n\u001b[1;32m      5\u001b[0m         \u001b[0mprint\u001b[0m\u001b[0;34m(\u001b[0m\u001b[0;34m\"Dead end. Go down.\"\u001b[0m\u001b[0;34m)\u001b[0m\u001b[0;34m\u001b[0m\u001b[0m\n",
      "\u001b[0;31mNameError\u001b[0m: name 'direction21' is not defined"
     ]
    }
   ],
   "source": [
    "if direction21 == 'left':\n",
    "    print(\"Dead end. Go right.\")\n",
    "    direction21 = input(\"Right or left? \")\n",
    "    if direction22 == 'up':\n",
    "        print(\"Dead end. Go down.\")\n",
    "        direction22 = input(\"Up or down? \")\n",
    "    elif direction22 == 'down':\n",
    "        direction23 = input(\"Right or left? \")\n",
    "elif direction21 == 'right':\n",
    "    direction22 = input(\"Up or down? \")\n",
    "    if direction22 == 'up':\n",
    "        print(\"Dead end. Go down.\")\n",
    "        direction22 = input(\"Up or down? \")\n",
    "    elif direction22 == 'down':\n",
    "        direction23 = input(\"Right or left? \")"
   ]
  },
  {
   "cell_type": "code",
   "execution_count": null,
   "metadata": {},
   "outputs": [],
   "source": [
    "if direction23 == 'left':\n",
    "    print(\"Dead end. Go right.\")\n",
    "    direction23 = input(\"Right or left? \")\n",
    "    if direction24 == 'down':\n",
    "        print(\"Dead end. Go up.\")\n",
    "        direction24 = input(\"Up or down? \")\n",
    "    elif direction24 == 'up':\n",
    "        direction25 = input(\"Right or left? \")\n",
    "elif direction23 == 'right':\n",
    "    direction24 = input(\"Up or down? \")\n",
    "    if direction24 == 'down':\n",
    "        print(\"Dead end. Go up.\")\n",
    "        direction24 = input(\"Up or down? \")\n",
    "    elif direction24 == 'up':\n",
    "        direction25 = input(\"Right or left? \")"
   ]
  },
  {
   "cell_type": "code",
   "execution_count": null,
   "metadata": {},
   "outputs": [],
   "source": [
    "if direction25 == 'right':\n",
    "    print(\"Dead end. Go left.\")\n",
    "    direction25 = input(\"Right or left? \")\n",
    "    if direction26 == 'down':\n",
    "        print(\"Dead end. Go up.\")\n",
    "        direction26 = input(\"Up or down? \")\n",
    "    elif direction26 == 'up':\n",
    "        print(\"YOU HAVE COMPLETED LEVEL 6!\")\n",
    "elif direction25 == 'left':\n",
    "    direction26 = input(\"Up or down? \")\n",
    "    if direction26 == 'down':\n",
    "        print(\"Dead end. Go up.\")\n",
    "        direction26 = input(\"Up or down? \")\n",
    "    elif direction26 == 'up':\n",
    "        print(\"YOU HAVE COMPLETED LEVEL 6!\")\n",
    "print(\"CONGRATULATIONS! YOU HAVE FINISHED THE GAME!\")"
   ]
  },
  {
   "cell_type": "code",
   "execution_count": null,
   "metadata": {},
   "outputs": [],
   "source": []
  }
 ],
 "metadata": {
  "kernelspec": {
   "display_name": "Python 3",
   "language": "python",
   "name": "python3"
  },
  "language_info": {
   "codemirror_mode": {
    "name": "ipython",
    "version": 3
   },
   "file_extension": ".py",
   "mimetype": "text/x-python",
   "name": "python",
   "nbconvert_exporter": "python",
   "pygments_lexer": "ipython3",
   "version": "3.6.6"
  }
 },
 "nbformat": 4,
 "nbformat_minor": 2
}
