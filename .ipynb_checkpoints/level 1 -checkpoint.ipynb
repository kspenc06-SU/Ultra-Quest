{
 "cells": [
  {
   "cell_type": "markdown",
   "metadata": {},
   "source": [
    "<img scr=\"level 1 .png\"/>"
   ]
  },
  {
   "cell_type": "markdown",
   "metadata": {},
   "source": [
    "![](level1.png)"
   ]
  },
  {
   "attachments": {
    "image.png": {
     "image/png": "[encoded data removed]"
    }
   },
   "cell_type": "markdown",
   "metadata": {},
   "source": [
    "![image.png](attachment:image.png)\n"
   ]
  },
  {
   "cell_type": "code",
   "execution_count": null,
   "metadata": {},
   "outputs": [
    {
     "name": "stdout",
     "output_type": "stream",
     "text": [
      "Welcome to Round 1!\n"
     ]
    }
   ],
   "source": [
    "print(\"Welcome to Round 1!\")\n",
    "direction1 = input(\"left or right: \")\n",
    "if direction1 == 'right':\n",
    "    print(\"Dead end. Go left\")\n",
    "    direction1 = input(\"left or right: \")\n",
    "    direction2 = input(\"up or down: \")\n",
    "    if direction2 == 'down':\n",
    "        print(\"Dead end. Go up.\")\n",
    "        direction2 = input(\"up or down: \")\n",
    "    elif direction2 == 'up':\n",
    "        direction3 = input('left or right')\n",
    "elif direction1 == 'left':\n",
    "    direction2 = input(\"up or down: \")\n",
    "    if direction2 == 'down':\n",
    "        print(\"Dead end. Go up.\")\n",
    "        direction2 = input(\"up or down: \")\n",
    "    elif direction2 == 'up':\n",
    "        direction3 = input(\"Right or left: \")"
   ]
  },
  {
   "cell_type": "code",
   "execution_count": 3,
   "metadata": {},
   "outputs": [
    {
     "name": "stdout",
     "output_type": "stream",
     "text": [
      "up or down: up\n",
      "Right or left: left\n"
     ]
    }
   ],
   "source": [
    "direction3 = input(\"Right or left: \")\n",
    "if direction3 == 'left':\n",
    "    print(\"Dead end. Go right\")\n",
    "    direction3 = input(\"Right or left: \")\n",
    "    direction4 =input(\"up or down: \")\n",
    "    if direction4 == 'down':\n",
    "        print(\"Dead end. Go up\")\n",
    "        direction4 = input(\"up or down: \")\n",
    "    elif direction4 == 'up':\n",
    "        direction5 = input(\"Right or left: \")\n",
    "elif direction3 == 'right':\n",
    "    direction4 = input(\"up or down: \")\n",
    "    if direction4 == 'down':\n",
    "        print(\"Dead end. Go up\")\n",
    "        direction4 = input(\"up or down: \")\n",
    "    elif direction4 == 'up':\n",
    "        direction5 = input(\"Right or left: \")"
   ]
  },
  {
   "cell_type": "code",
   "execution_count": 4,
   "metadata": {},
   "outputs": [
    {
     "name": "stdout",
     "output_type": "stream",
     "text": [
      "Dead end. Go right\n",
      "Right or left: right\n",
      "up or down: up\n",
      "Dead end. Go down\n",
      "up or down: down\n"
     ]
    }
   ],
   "source": [
    "direction5 = input(\"Right or left: \")\n",
    "if direction5 == 'left':\n",
    "    print(\"Dead end. Go right\")\n",
    "    direction5 = input(\"Right or left: \")\n",
    "    direction6 =input(\"up or down: \")\n",
    "    if direction6 == 'up':\n",
    "        print(\"Dead end. Go down\")\n",
    "        direction6 = input(\"up or down: \")\n",
    "    elif direction6 == 'down':\n",
    "        direction7 = input(\"Right or left: \")\n",
    "elif direction5 == 'right':\n",
    "    direction6 = input(\"up or down: \")\n",
    "    if direction6 == 'up':\n",
    "        print(\"Dead end. Go down\")\n",
    "        direction6 = input(\"up or down: \")\n",
    "    elif direction6 == 'down':\n",
    "        direction7 = input(\"Right or left: \")"
   ]
  },
  {
   "cell_type": "code",
   "execution_count": 6,
   "metadata": {},
   "outputs": [
    {
     "name": "stdout",
     "output_type": "stream",
     "text": [
      "Right or left: left\n",
      "Dead end. Go right\n",
      "Right or left: right\n",
      "up or down: down\n",
      "Dead end. Go up\n",
      "up or down: up\n"
     ]
    }
   ],
   "source": [
    "direction7 = input(\"Right or left: \")\n",
    "if direction7 == 'left':\n",
    "    print(\"Dead end. Go right\")\n",
    "    direction7 = input(\"Right or left: \")\n",
    "    direction8 =input(\"up or down: \")\n",
    "    if direction8 == 'down':\n",
    "        print(\"Dead end. Go up\")\n",
    "        direction8 = input(\"up or down: \")\n",
    "    elif direction8 == 'up':\n",
    "        direction9 = input(\"Right or left: \")\n",
    "elif direction7 == 'right':\n",
    "    direction8 = input(\"up or down: \")\n",
    "    if direction8 == 'down':\n",
    "        print(\"Dead end. Go up\")\n",
    "        direction8 = input(\"up or down: \")\n",
    "    elif direction8 == 'up':\n",
    "        direction9 = input(\"Right or left: \")"
   ]
  },
  {
   "cell_type": "code",
   "execution_count": 7,
   "metadata": {},
   "outputs": [
    {
     "name": "stdout",
     "output_type": "stream",
     "text": [
      "Right or left: left\n",
      "Dead end. Go right\n",
      "Right or left: right\n",
      "up or down: up\n",
      "Dead end. Go down\n",
      "up or down: down\n"
     ]
    }
   ],
   "source": [
    "direction9 = input(\"Right or left: \")\n",
    "if direction9 == 'left':\n",
    "    print(\"Dead end. Go right\")\n",
    "    direction9 = input(\"Right or left: \")\n",
    "    direction10 =input(\"up or down: \")\n",
    "    if direction10 == 'up':\n",
    "        print(\"Dead end. Go down\")\n",
    "        direction10 = input(\"up or down: \")\n",
    "    elif direction10 == 'down':\n",
    "        direction11 = input(\"Right or left: \")\n",
    "elif direction9 == 'right':\n",
    "    direction10 = input(\"up or down: \")\n",
    "    if direction10 == 'up':\n",
    "        print(\"Dead end. Go down\")\n",
    "        direction10 = input(\"up or down: \")\n",
    "    elif direction10 == 'down':\n",
    "        direction11 = input(\"Right or left: \")"
   ]
  },
  {
   "cell_type": "code",
   "execution_count": 8,
   "metadata": {},
   "outputs": [
    {
     "name": "stdout",
     "output_type": "stream",
     "text": [
      "Right or left: left\n",
      "Dead end. Go right\n",
      "Right or left: right\n",
      "up or down: up\n",
      "Right or left: left\n"
     ]
    }
   ],
   "source": [
    "direction11 = input(\"Right or left: \")\n",
    "if direction11 == 'left':\n",
    "    print(\"Dead end. Go right\")\n",
    "    direction11 = input(\"Right or left: \")\n",
    "    direction12 =input(\"up or down: \")\n",
    "    if direction12 == 'down':\n",
    "        print(\"Dead end. Go up\")\n",
    "        direction12 = input(\"up or down: \")\n",
    "    elif direction12 == 'up':\n",
    "        direction13 = input(\"Right or left: \")\n",
    "elif direction11 == 'right':\n",
    "    direction12 = input(\"up or down: \")\n",
    "    if direction12 == 'down':\n",
    "        print(\"Dead end. Go up\")\n",
    "        direction12 = input(\"up or down: \")\n",
    "    elif direction12 == 'up':\n",
    "        direction13 = input(\"Right or left: \")"
   ]
  },
  {
   "cell_type": "code",
   "execution_count": null,
   "metadata": {},
   "outputs": [],
   "source": [
    "direction13 = input(\"Right or left: \")\n",
    "if direction13 == 'left':\n",
    "    print(\"Dead end. Go right\")\n",
    "    direction13 = input(\"Right or left: \")\n",
    "    direction14 =input(\"up or down: \")\n",
    "    if direction14 == 'down':\n",
    "        print(\"Dead end. Go up\")\n",
    "        direction14 = input(\"up or down: \")\n",
    "    elif direction14 == 'up':\n",
    "        direction15 = input(\"Right or left: \")\n",
    "elif direction13 == 'right':\n",
    "    direction14 = input(\"up or down: \")\n",
    "    if direction14 == 'down':\n",
    "        print(\"Dead end. Go up\")\n",
    "        direction14 = input(\"up or down: \")\n",
    "    elif direction14 == 'up':\n",
    "        direction15 = input(\"Right or left: \")"
   ]
  },
  {
   "cell_type": "code",
   "execution_count": null,
   "metadata": {},
   "outputs": [],
   "source": [
    "direction15 = input(\"Right or left: \")\n",
    "if direction15 == 'right':\n",
    "    print(\"Dead end. Go left\")\n",
    "    direction15 = input(\"Right or left: \")\n",
    "    direction16 =input(\"up or down: \")\n",
    "    if direction16 == 'down':\n",
    "        print(\"Dead end. Go up\")\n",
    "        direction16 = input(\"up or down: \")\n",
    "    elif direction16 == 'up':\n",
    "        direction17 = input(\"Right or left: \")\n",
    "elif direction15 == 'left':\n",
    "    direction16 = input(\"up or down: \")\n",
    "    if direction16 == 'down':\n",
    "        print(\"Dead end. Go go\")\n",
    "        direction16 = input(\"up or down: \")\n",
    "    elif direction16 == 'up':\n",
    "        direction17 = input(\"Right or left: \")"
   ]
  },
  {
   "cell_type": "code",
   "execution_count": null,
   "metadata": {},
   "outputs": [],
   "source": [
    "direction17 = input(\"Right or left: \")\n",
    "if direction17 == 'left':\n",
    "    print(\"Dead end. Go right\")\n",
    "    direction17 = input(\"Right or left: \")\n",
    "    direction18 =input(\"up or down: \")\n",
    "    if direction18 == 'up':\n",
    "        print(\"Dead end. Go down\")\n",
    "        direction18 = input(\"up or down: \")\n",
    "    elif direction18 == 'down':\n",
    "        direction19 = input(\"Right or left: \")\n",
    "elif direction17 == 'right':\n",
    "    direction18 = input(\"up or down: \")\n",
    "    if direction18 == 'up':\n",
    "        print(\"Dead end. Go down\")\n",
    "        direction18 = input(\"up or down: \")\n",
    "    elif direction18 == 'down':\n",
    "        direction19 = input(\"Right or left: \")"
   ]
  },
  {
   "cell_type": "code",
   "execution_count": 6,
   "metadata": {},
   "outputs": [
    {
     "name": "stdout",
     "output_type": "stream",
     "text": [
      "Right or left: left\n",
      "Dead end. Go right\n",
      "Right or left: right\n",
      "up or down: down\n",
      "you have completed level 1\n"
     ]
    }
   ],
   "source": [
    "direction19 = input(\"Right or left: \")\n",
    "if direction19 == 'left':\n",
    "    print(\"Dead end. Go right\")\n",
    "    direction19 = input(\"Right or left: \")\n",
    "    direction20 =input(\"up or down: \")\n",
    "    if direction20 == 'up':\n",
    "        print(\"Dead end. Go down\")\n",
    "        direction20 = input(\"up or down: \")\n",
    "    elif direction20 == 'down':\n",
    "        Finished=print(\"you have completed level 1\")\n",
    "elif direction19 == 'right':\n",
    "    direction6 = input(\"up or down: \")\n",
    "    if direction20 == 'up':\n",
    "        print(\"Dead end. Go down\")\n",
    "        direction20 = input(\"up or down: \")\n",
    "    elif direction20 == 'down':\n",
    "        Finished=print(\"you have completed level 1\")"
   ]
  }
 ],
 "metadata": {
  "kernelspec": {
   "display_name": "Python 3",
   "language": "python",
   "name": "python3"
  },
  "language_info": {
   "codemirror_mode": {
    "name": "ipython",
    "version": 3
   },
   "file_extension": ".py",
   "mimetype": "text/x-python",
   "name": "python",
   "nbconvert_exporter": "python",
   "pygments_lexer": "ipython3",
   "version": "3.6.6"
  }
 },
 "nbformat": 4,
 "nbformat_minor": 2
}
