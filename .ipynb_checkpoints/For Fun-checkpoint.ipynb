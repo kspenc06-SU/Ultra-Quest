{
 "cells": [
  {
   "cell_type": "code",
   "execution_count": 2,
   "metadata": {},
   "outputs": [
    {
     "name": "stdout",
     "output_type": "stream",
     "text": [
      "Narrator: Are you ready for Life Simulator ? \n",
      "\n",
      "--------------------------------------------------\n",
      "Yes or Novggvc\n",
      "Yes I am so excited to show you around\n",
      "Narrator: Are you ready for Life Simulator ? \n",
      "\n",
      "--------------------------------------------------\n"
     ]
    }
   ],
   "source": [
    "print(\"Narrator: Are you ready for Life Simulator ? \\n\")\n",
    "print(\"-\"*50)\n",
    "n=1\n",
    "while n == 1:\n",
    "    \n",
    "    YesorNo = input(\"Yes or No\").lower() \n",
    "    \n",
    "    if YesorNo == (\"yes\") or (\"no\"):\n",
    "        n+=1\n",
    "        print(\"Yes I am so excited to show you around\")\n",
    "        break\n",
    "    if YesorNo != (\"yes\") or (\"no\"):\n",
    "        n == 1\n",
    "        \n",
    "    else:\n",
    "        raise\n",
    "print(\"Narrator: Are you ready for Life Simulator ? \\n\")\n",
    "print(\"-\"*50)"
   ]
  },
  {
   "cell_type": "code",
   "execution_count": null,
   "metadata": {},
   "outputs": [],
   "source": []
  },
  {
   "cell_type": "code",
   "execution_count": null,
   "metadata": {},
   "outputs": [],
   "source": []
  },
  {
   "cell_type": "code",
   "execution_count": null,
   "metadata": {},
   "outputs": [],
   "source": []
  }
 ],
 "metadata": {
  "kernelspec": {
   "display_name": "Python 3",
   "language": "python",
   "name": "python3"
  },
  "language_info": {
   "codemirror_mode": {
    "name": "ipython",
    "version": 3
   },
   "file_extension": ".py",
   "mimetype": "text/x-python",
   "name": "python",
   "nbconvert_exporter": "python",
   "pygments_lexer": "ipython3",
   "version": "3.6.6"
  }
 },
 "nbformat": 4,
 "nbformat_minor": 2
}
